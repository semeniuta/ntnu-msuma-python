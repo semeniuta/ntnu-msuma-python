{
 "cells": [
  {
   "cell_type": "markdown",
   "metadata": {},
   "source": [
    "# SMT Python Seminar"
   ]
  },
  {
   "cell_type": "markdown",
   "metadata": {},
   "source": [
    "## Overview\n",
    "\n",
    "Important libraries:\n",
    "\n",
    "* numpy\n",
    "* scipy\n",
    "* pandas\n",
    "* matplotlib\n",
    "* scikit-learn\n",
    "* scikit-image\n",
    "* numpy-stl\n",
    "\n",
    "Basic applications:\n",
    "\n",
    "* matrix/vector manipulations with `numpy`\n",
    "* generating samples from probability distributions\n",
    "* estimation and visualization of probability distributions\n",
    "* model fitting\n",
    "* reading data into a Pandas data frame\n",
    "* reading an STL file with `numpy-stl`\n",
    "* rotation with `scipy.spatial.transform`\n",
    "* SPC visualization and calculation\n",
    "* machine learning with Scikit-learn\n",
    "* image processing with Scikit-image\n",
    "\n",
    "More advanced examples from my work:\n",
    "\n",
    "* serial communication with Anyfeed\n",
    "* TCP sockets -- example with pyadept/AdeptServer\n",
    "* ZeroMQ\n",
    "* vision pipelines, EPypes\n",
    "\n",
    "Quick overview of more advanced stuff:\n",
    "\n",
    "* OpenCV\n",
    "* ROS\n",
    "* TensorFlow\n",
    "* SimPy"
   ]
  },
  {
   "cell_type": "code",
   "execution_count": null,
   "metadata": {},
   "outputs": [],
   "source": []
  }
 ],
 "metadata": {
  "kernelspec": {
   "display_name": "Python 3",
   "language": "python",
   "name": "python3"
  },
  "language_info": {
   "codemirror_mode": {
    "name": "ipython",
    "version": 3
   },
   "file_extension": ".py",
   "mimetype": "text/x-python",
   "name": "python",
   "nbconvert_exporter": "python",
   "pygments_lexer": "ipython3",
   "version": "3.6.7"
  }
 },
 "nbformat": 4,
 "nbformat_minor": 2
}
