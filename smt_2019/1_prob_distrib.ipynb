{
 "cells": [
  {
   "cell_type": "markdown",
   "metadata": {},
   "source": [
    "# SMT Python Seminar - Probability distributions\n",
    "\n",
    "* generating samples from probability distributions\n",
    "* estimation and visualization of probability distributions"
   ]
  },
  {
   "cell_type": "markdown",
   "metadata": {},
   "source": [
    "## Enabling some magic"
   ]
  },
  {
   "cell_type": "markdown",
   "metadata": {},
   "source": [
    "More on the Jupyter magic commands: https://alexsm.com/jupyter-notebook-ipython-magic/"
   ]
  },
  {
   "cell_type": "code",
   "execution_count": 1,
   "metadata": {},
   "outputs": [],
   "source": [
    "%matplotlib inline\n",
    "%load_ext autoreload\n",
    "%autoreload 2"
   ]
  },
  {
   "cell_type": "code",
   "execution_count": 2,
   "metadata": {},
   "outputs": [
    {
     "data": {
      "application/javascript": [
       "IPython.OutputArea.prototype._should_scroll = function(lines) {\n",
       "    return false;\n",
       "}\n"
      ],
      "text/plain": [
       "<IPython.core.display.Javascript object>"
      ]
     },
     "metadata": {},
     "output_type": "display_data"
    }
   ],
   "source": [
    "%%javascript\n",
    "IPython.OutputArea.prototype._should_scroll = function(lines) {\n",
    "    return false;\n",
    "}"
   ]
  },
  {
   "cell_type": "markdown",
   "metadata": {},
   "source": [
    "## Imports"
   ]
  },
  {
   "cell_type": "code",
   "execution_count": 3,
   "metadata": {},
   "outputs": [],
   "source": [
    "import numpy as np\n",
    "import pandas as pd\n",
    "from scipy import stats\n",
    "from matplotlib import pyplot as plt"
   ]
  },
  {
   "cell_type": "markdown",
   "metadata": {},
   "source": [
    "## Generate samples"
   ]
  },
  {
   "cell_type": "code",
   "execution_count": 4,
   "metadata": {},
   "outputs": [
    {
     "name": "stdout",
     "output_type": "stream",
     "text": [
      "[5.40170129 3.79405182 4.65942808 6.47242437 4.9537624  5.59537652\n",
      " 4.01820669 5.18016584 4.93357325 2.09089738 3.32636763 3.39872823\n",
      " 4.73979309 3.42348273 4.10295943 4.0697604  4.91433272 4.59335355\n",
      " 4.25698149 4.84747627 5.02493527 3.13261115 4.98053559 3.88163895\n",
      " 3.34371255 6.94025158 6.19473726 5.05524186 5.39010469 4.99913843\n",
      " 6.81595521 3.92970924 4.72244619 4.55158516 5.56607149 5.24898687\n",
      " 4.44513618 2.87893466 3.64587532 6.21937377 4.91211487 4.94900176\n",
      " 4.60622667 5.11439914 3.68934932 5.80351433 5.03808753 4.84891306\n",
      " 3.69379291 7.13289868]\n"
     ]
    }
   ],
   "source": [
    "nd = stats.norm(loc=5., scale=1.)\n",
    "nd_samples = nd.rvs(size=1000)\n",
    "\n",
    "print(nd_samples[:50])"
   ]
  },
  {
   "cell_type": "code",
   "execution_count": 5,
   "metadata": {},
   "outputs": [
    {
     "data": {
      "image/png": "[encoded data removed]",
      "text/plain": [
       "<Figure size 432x288 with 1 Axes>"
      ]
     },
     "metadata": {
      "needs_background": "light"
     },
     "output_type": "display_data"
    }
   ],
   "source": [
    "_ = plt.hist(nd_samples, bins=20)"
   ]
  },
  {
   "cell_type": "markdown",
   "metadata": {},
   "source": [
    "## Fit and visualize PDF"
   ]
  },
  {
   "cell_type": "code",
   "execution_count": 6,
   "metadata": {},
   "outputs": [],
   "source": [
    "def plot_frozen_distrib(x0, x1, distrib, linspace_num=200, fill_alpha=0.4, **plot_kvargs):\n",
    "    \"\"\"\n",
    "    Visualize 1D continuous distribution on the given domain range\n",
    "    \"\"\"\n",
    "\n",
    "    x = np.linspace(x0, x1, num=linspace_num)\n",
    "    y = distrib.pdf(x)\n",
    "    plt.plot(x, y, **plot_kvargs)\n",
    "\n",
    "    fb_kvargs = {'alpha': fill_alpha}\n",
    "    if 'color' in plot_kvargs:\n",
    "        fb_kvargs['color'] = plot_kvargs['color']\n",
    "    plt.fill_between(x, y, **fb_kvargs)"
   ]
  },
  {
   "cell_type": "code",
   "execution_count": 7,
   "metadata": {},
   "outputs": [
    {
     "name": "stdout",
     "output_type": "stream",
     "text": [
      "4.930722262347379 1.0175641358185348\n"
     ]
    }
   ],
   "source": [
    "nd_estimated_mean, nd_estimated_std = stats.norm.fit(nd_samples)\n",
    "print(nd_estimated_mean, nd_estimated_std)"
   ]
  },
  {
   "cell_type": "code",
   "execution_count": 8,
   "metadata": {},
   "outputs": [],
   "source": [
    "frozen_normal = stats.norm(loc=nd_estimated_mean, scale=nd_estimated_std)"
   ]
  },
  {
   "cell_type": "code",
   "execution_count": 9,
   "metadata": {},
   "outputs": [
    {
     "data": {
      "image/png": "[encoded data removed]",
      "text/plain": [
       "<Figure size 432x288 with 1 Axes>"
      ]
     },
     "metadata": {
      "needs_background": "light"
     },
     "output_type": "display_data"
    }
   ],
   "source": [
    "plot_frozen_distrib(0, 10, frozen_normal, color='dodgerblue')"
   ]
  },
  {
   "cell_type": "code",
   "execution_count": null,
   "metadata": {},
   "outputs": [],
   "source": []
  }
 ],
 "metadata": {
  "kernelspec": {
   "display_name": "Python 3",
   "language": "python",
   "name": "python3"
  },
  "language_info": {
   "codemirror_mode": {
    "name": "ipython",
    "version": 3
   },
   "file_extension": ".py",
   "mimetype": "text/x-python",
   "name": "python",
   "nbconvert_exporter": "python",
   "pygments_lexer": "ipython3",
   "version": "3.6.6"
  }
 },
 "nbformat": 4,
 "nbformat_minor": 2
}
