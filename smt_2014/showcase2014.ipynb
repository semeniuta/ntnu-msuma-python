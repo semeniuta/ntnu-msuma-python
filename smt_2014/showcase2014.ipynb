{
 "cells": [
  {
   "cell_type": "code",
   "execution_count": 1,
   "metadata": {},
   "outputs": [],
   "source": [
    "%matplotlib inline"
   ]
  },
  {
   "cell_type": "markdown",
   "metadata": {},
   "source": [
    "Variables and types"
   ]
  },
  {
   "cell_type": "code",
   "execution_count": 2,
   "metadata": {},
   "outputs": [
    {
     "data": {
      "text/plain": [
       "int"
      ]
     },
     "execution_count": 2,
     "metadata": {},
     "output_type": "execute_result"
    }
   ],
   "source": [
    "a = 5\n",
    "type(a)"
   ]
  },
  {
   "cell_type": "code",
   "execution_count": 3,
   "metadata": {},
   "outputs": [
    {
     "data": {
      "text/plain": [
       "float"
      ]
     },
     "execution_count": 3,
     "metadata": {},
     "output_type": "execute_result"
    }
   ],
   "source": [
    "b = 5.4\n",
    "type(b)"
   ]
  },
  {
   "cell_type": "markdown",
   "metadata": {},
   "source": [
    "Dynamic typing"
   ]
  },
  {
   "cell_type": "code",
   "execution_count": 4,
   "metadata": {},
   "outputs": [
    {
     "name": "stdout",
     "output_type": "stream",
     "text": [
      "10\n"
     ]
    }
   ],
   "source": [
    "c = 10\n",
    "print(c)"
   ]
  },
  {
   "cell_type": "code",
   "execution_count": 5,
   "metadata": {},
   "outputs": [
    {
     "name": "stdout",
     "output_type": "stream",
     "text": [
      "-3.14\n"
     ]
    }
   ],
   "source": [
    "c= -3.14\n",
    "print(c)"
   ]
  },
  {
   "cell_type": "code",
   "execution_count": 6,
   "metadata": {},
   "outputs": [
    {
     "name": "stdout",
     "output_type": "stream",
     "text": [
      "TØL4091\n"
     ]
    }
   ],
   "source": [
    "c = 'TØL4091'\n",
    "print(c)"
   ]
  },
  {
   "cell_type": "markdown",
   "metadata": {},
   "source": [
    "Lists, 'for' loop, dictionaries"
   ]
  },
  {
   "cell_type": "code",
   "execution_count": 7,
   "metadata": {},
   "outputs": [
    {
     "data": {
      "text/plain": [
       "[1, 3, 5, 7, 11]"
      ]
     },
     "execution_count": 7,
     "metadata": {},
     "output_type": "execute_result"
    }
   ],
   "source": [
    "primes = [1, 3, 5, 7, 11]\n",
    "primes"
   ]
  },
  {
   "cell_type": "code",
   "execution_count": 8,
   "metadata": {},
   "outputs": [
    {
     "name": "stdout",
     "output_type": "stream",
     "text": [
      "1 1\n",
      "3 9\n",
      "5 25\n",
      "7 49\n",
      "11 121\n"
     ]
    }
   ],
   "source": [
    "for p in primes:\n",
    "    print(p, p**2)"
   ]
  },
  {
   "cell_type": "code",
   "execution_count": 9,
   "metadata": {},
   "outputs": [
    {
     "name": "stdout",
     "output_type": "stream",
     "text": [
      "0 1\n",
      "1 3\n",
      "2 5\n",
      "3 7\n",
      "4 11\n"
     ]
    }
   ],
   "source": [
    "for i, p in enumerate(primes):\n",
    "    print(i, p)"
   ]
  },
  {
   "cell_type": "code",
   "execution_count": 10,
   "metadata": {},
   "outputs": [
    {
     "data": {
      "text/plain": [
       "['m0', 'm1', 'm2', 'm3', 'm4']"
      ]
     },
     "execution_count": 10,
     "metadata": {},
     "output_type": "execute_result"
    }
   ],
   "source": [
    "m_list = ['m%d' % i for i in range(5)]\n",
    "m_list"
   ]
  },
  {
   "cell_type": "code",
   "execution_count": 11,
   "metadata": {},
   "outputs": [
    {
     "name": "stdout",
     "output_type": "stream",
     "text": [
      "{0: 0, 1: 1, 2: 4, 3: 9, 4: 16, 5: 25, 6: 36, 7: 49, 8: 64, 9: 81}\n"
     ]
    }
   ],
   "source": [
    "squares = {i: i**2 for i in range(10)}\n",
    "print(squares)"
   ]
  },
  {
   "cell_type": "markdown",
   "metadata": {},
   "source": [
    "Functions"
   ]
  },
  {
   "cell_type": "code",
   "execution_count": 12,
   "metadata": {},
   "outputs": [],
   "source": [
    "def find_odds(n):\n",
    "    odds = []\n",
    "    i = 0\n",
    "    while len(odds) < n:\n",
    "        if i % 2 != 0:\n",
    "            odds.append(i)\n",
    "        i += 1\n",
    "    return odds"
   ]
  },
  {
   "cell_type": "code",
   "execution_count": 13,
   "metadata": {},
   "outputs": [
    {
     "data": {
      "text/plain": [
       "[1, 3, 5, 7, 9, 11]"
      ]
     },
     "execution_count": 13,
     "metadata": {},
     "output_type": "execute_result"
    }
   ],
   "source": [
    "res = find_odds(6)\n",
    "res"
   ]
  },
  {
   "cell_type": "markdown",
   "metadata": {},
   "source": [
    "Randomizing and plotting"
   ]
  },
  {
   "cell_type": "code",
   "execution_count": 14,
   "metadata": {},
   "outputs": [
    {
     "data": {
      "text/plain": [
       "(array([20., 23., 26., 21., 22., 13., 12., 19., 26., 18.]),\n",
       " array([  1. ,  10.9,  20.8,  30.7,  40.6,  50.5,  60.4,  70.3,  80.2,\n",
       "         90.1, 100. ]),\n",
       " <a list of 10 Patch objects>)"
      ]
     },
     "execution_count": 14,
     "metadata": {},
     "output_type": "execute_result"
    },
    {
     "data": {
      "image/png": "[encoded data removed]",
      "text/plain": [
       "<Figure size 432x288 with 1 Axes>"
      ]
     },
     "metadata": {
      "needs_background": "light"
     },
     "output_type": "display_data"
    },
    {
     "data": {
      "image/png": "[encoded data removed]",
      "text/plain": [
       "<Figure size 432x288 with 1 Axes>"
      ]
     },
     "metadata": {
      "needs_background": "light"
     },
     "output_type": "display_data"
    }
   ],
   "source": [
    "import random\n",
    "from matplotlib import pyplot as plt\n",
    "\n",
    "rands = []\n",
    "for i in range(200):\n",
    "    r = random.randint(0, 100)\n",
    "    rands.append(r)\n",
    "\n",
    "plt.figure()\n",
    "plt.plot(rands)  \n",
    "\n",
    "plt.figure()\n",
    "\n",
    "plt.hist(rands)"
   ]
  },
  {
   "cell_type": "markdown",
   "metadata": {},
   "source": [
    "Statistics"
   ]
  },
  {
   "cell_type": "code",
   "execution_count": 15,
   "metadata": {},
   "outputs": [],
   "source": [
    "from scipy import stats"
   ]
  },
  {
   "cell_type": "code",
   "execution_count": 16,
   "metadata": {},
   "outputs": [
    {
     "data": {
      "text/plain": [
       "(array([  2.,   4.,   5.,  12.,  22.,  33.,  54.,  96., 110., 145., 151.,\n",
       "        111.,  92.,  74.,  44.,  19.,  14.,   8.,   1.,   3.]),\n",
       " array([1.52592131, 1.86606955, 2.2062178 , 2.54636604, 2.88651429,\n",
       "        3.22666253, 3.56681078, 3.90695902, 4.24710727, 4.58725551,\n",
       "        4.92740376, 5.267552  , 5.60770025, 5.94784849, 6.28799674,\n",
       "        6.62814498, 6.96829323, 7.30844147, 7.64858972, 7.98873796,\n",
       "        8.32888621]),\n",
       " <a list of 20 Patch objects>)"
      ]
     },
     "execution_count": 16,
     "metadata": {},
     "output_type": "execute_result"
    },
    {
     "data": {
      "image/png": "[encoded data removed]",
      "text/plain": [
       "<Figure size 432x288 with 1 Axes>"
      ]
     },
     "metadata": {
      "needs_background": "light"
     },
     "output_type": "display_data"
    }
   ],
   "source": [
    "nd = stats.norm(loc=5, scale=1)\n",
    "variates = nd.rvs(size=1000)\n",
    "plt.hist(variates, bins=20)"
   ]
  },
  {
   "cell_type": "code",
   "execution_count": 17,
   "metadata": {},
   "outputs": [
    {
     "data": {
      "text/plain": [
       "{'a': 2.8561984649196486,\n",
       " 'c': 1.491816029974724,\n",
       " 'loc': -0.035977395750184625,\n",
       " 'scale': 1.009060741886329}"
      ]
     },
     "execution_count": 17,
     "metadata": {},
     "output_type": "execute_result"
    },
    {
     "data": {
      "image/png": "[encoded data removed]",
      "text/plain": [
       "<Figure size 432x288 with 1 Axes>"
      ]
     },
     "metadata": {
      "needs_background": "light"
     },
     "output_type": "display_data"
    }
   ],
   "source": [
    "wd = stats.exponweib(a=2.7, c=1.5)\n",
    "weib_variates = wd.rvs(size=5000)\n",
    "plt.hist(weib_variates, bins=40)\n",
    "\n",
    "# Maximum likelihood estimation for shape, location, and scale parameters from data\n",
    "res = stats.exponweib.fit(weib_variates)\n",
    "keys = ['a', 'c', 'loc', 'scale']\n",
    "{keys[i]: res[i] for i in range(4)}"
   ]
  },
  {
   "cell_type": "markdown",
   "metadata": {},
   "source": [
    "Data analysis"
   ]
  },
  {
   "cell_type": "code",
   "execution_count": 18,
   "metadata": {},
   "outputs": [],
   "source": [
    "import pandas"
   ]
  },
  {
   "cell_type": "code",
   "execution_count": 19,
   "metadata": {},
   "outputs": [
    {
     "data": {
      "text/html": [
       "<div>\n",
       "<style scoped>\n",
       "    .dataframe tbody tr th:only-of-type {\n",
       "        vertical-align: middle;\n",
       "    }\n",
       "\n",
       "    .dataframe tbody tr th {\n",
       "        vertical-align: top;\n",
       "    }\n",
       "\n",
       "    .dataframe thead th {\n",
       "        text-align: right;\n",
       "    }\n",
       "</style>\n",
       "<table border=\"1\" class=\"dataframe\">\n",
       "  <thead>\n",
       "    <tr style=\"text-align: right;\">\n",
       "      <th></th>\n",
       "      <th>m1</th>\n",
       "      <th>m2</th>\n",
       "      <th>m3</th>\n",
       "      <th>m4</th>\n",
       "    </tr>\n",
       "  </thead>\n",
       "  <tbody>\n",
       "    <tr>\n",
       "      <th>1</th>\n",
       "      <td>46.25</td>\n",
       "      <td>50.26</td>\n",
       "      <td>53.61</td>\n",
       "      <td>49.00</td>\n",
       "    </tr>\n",
       "    <tr>\n",
       "      <th>2</th>\n",
       "      <td>52.54</td>\n",
       "      <td>48.16</td>\n",
       "      <td>51.30</td>\n",
       "      <td>48.95</td>\n",
       "    </tr>\n",
       "    <tr>\n",
       "      <th>3</th>\n",
       "      <td>44.14</td>\n",
       "      <td>49.30</td>\n",
       "      <td>43.53</td>\n",
       "      <td>52.14</td>\n",
       "    </tr>\n",
       "    <tr>\n",
       "      <th>4</th>\n",
       "      <td>45.61</td>\n",
       "      <td>40.59</td>\n",
       "      <td>48.53</td>\n",
       "      <td>49.56</td>\n",
       "    </tr>\n",
       "    <tr>\n",
       "      <th>5</th>\n",
       "      <td>46.23</td>\n",
       "      <td>46.19</td>\n",
       "      <td>47.76</td>\n",
       "      <td>46.76</td>\n",
       "    </tr>\n",
       "    <tr>\n",
       "      <th>6</th>\n",
       "      <td>43.46</td>\n",
       "      <td>47.35</td>\n",
       "      <td>46.63</td>\n",
       "      <td>51.02</td>\n",
       "    </tr>\n",
       "    <tr>\n",
       "      <th>7</th>\n",
       "      <td>46.21</td>\n",
       "      <td>50.37</td>\n",
       "      <td>48.38</td>\n",
       "      <td>47.67</td>\n",
       "    </tr>\n",
       "    <tr>\n",
       "      <th>8</th>\n",
       "      <td>51.29</td>\n",
       "      <td>54.88</td>\n",
       "      <td>47.52</td>\n",
       "      <td>50.06</td>\n",
       "    </tr>\n",
       "    <tr>\n",
       "      <th>9</th>\n",
       "      <td>47.73</td>\n",
       "      <td>49.75</td>\n",
       "      <td>45.19</td>\n",
       "      <td>50.70</td>\n",
       "    </tr>\n",
       "    <tr>\n",
       "      <th>10</th>\n",
       "      <td>52.35</td>\n",
       "      <td>47.60</td>\n",
       "      <td>48.94</td>\n",
       "      <td>47.80</td>\n",
       "    </tr>\n",
       "    <tr>\n",
       "      <th>11</th>\n",
       "      <td>47.88</td>\n",
       "      <td>51.11</td>\n",
       "      <td>44.38</td>\n",
       "      <td>49.67</td>\n",
       "    </tr>\n",
       "    <tr>\n",
       "      <th>12</th>\n",
       "      <td>46.98</td>\n",
       "      <td>46.33</td>\n",
       "      <td>53.51</td>\n",
       "      <td>44.39</td>\n",
       "    </tr>\n",
       "    <tr>\n",
       "      <th>13</th>\n",
       "      <td>47.56</td>\n",
       "      <td>44.48</td>\n",
       "      <td>52.40</td>\n",
       "      <td>45.87</td>\n",
       "    </tr>\n",
       "    <tr>\n",
       "      <th>14</th>\n",
       "      <td>49.62</td>\n",
       "      <td>44.58</td>\n",
       "      <td>41.87</td>\n",
       "      <td>50.08</td>\n",
       "    </tr>\n",
       "    <tr>\n",
       "      <th>15</th>\n",
       "      <td>45.54</td>\n",
       "      <td>45.14</td>\n",
       "      <td>51.28</td>\n",
       "      <td>50.91</td>\n",
       "    </tr>\n",
       "    <tr>\n",
       "      <th>16</th>\n",
       "      <td>47.23</td>\n",
       "      <td>46.28</td>\n",
       "      <td>43.79</td>\n",
       "      <td>45.01</td>\n",
       "    </tr>\n",
       "    <tr>\n",
       "      <th>17</th>\n",
       "      <td>48.86</td>\n",
       "      <td>43.71</td>\n",
       "      <td>48.08</td>\n",
       "      <td>48.48</td>\n",
       "    </tr>\n",
       "    <tr>\n",
       "      <th>18</th>\n",
       "      <td>44.84</td>\n",
       "      <td>51.55</td>\n",
       "      <td>44.24</td>\n",
       "      <td>49.39</td>\n",
       "    </tr>\n",
       "    <tr>\n",
       "      <th>19</th>\n",
       "      <td>44.87</td>\n",
       "      <td>49.43</td>\n",
       "      <td>51.23</td>\n",
       "      <td>46.83</td>\n",
       "    </tr>\n",
       "    <tr>\n",
       "      <th>20</th>\n",
       "      <td>47.77</td>\n",
       "      <td>51.71</td>\n",
       "      <td>46.07</td>\n",
       "      <td>50.30</td>\n",
       "    </tr>\n",
       "    <tr>\n",
       "      <th>21</th>\n",
       "      <td>41.92</td>\n",
       "      <td>45.68</td>\n",
       "      <td>51.41</td>\n",
       "      <td>44.64</td>\n",
       "    </tr>\n",
       "    <tr>\n",
       "      <th>22</th>\n",
       "      <td>48.66</td>\n",
       "      <td>48.07</td>\n",
       "      <td>43.32</td>\n",
       "      <td>43.51</td>\n",
       "    </tr>\n",
       "    <tr>\n",
       "      <th>23</th>\n",
       "      <td>47.97</td>\n",
       "      <td>49.23</td>\n",
       "      <td>43.08</td>\n",
       "      <td>43.31</td>\n",
       "    </tr>\n",
       "    <tr>\n",
       "      <th>24</th>\n",
       "      <td>46.15</td>\n",
       "      <td>50.82</td>\n",
       "      <td>42.12</td>\n",
       "      <td>43.46</td>\n",
       "    </tr>\n",
       "    <tr>\n",
       "      <th>25</th>\n",
       "      <td>51.15</td>\n",
       "      <td>53.11</td>\n",
       "      <td>49.94</td>\n",
       "      <td>45.86</td>\n",
       "    </tr>\n",
       "  </tbody>\n",
       "</table>\n",
       "</div>"
      ],
      "text/plain": [
       "       m1     m2     m3     m4\n",
       "1   46.25  50.26  53.61  49.00\n",
       "2   52.54  48.16  51.30  48.95\n",
       "3   44.14  49.30  43.53  52.14\n",
       "4   45.61  40.59  48.53  49.56\n",
       "5   46.23  46.19  47.76  46.76\n",
       "6   43.46  47.35  46.63  51.02\n",
       "7   46.21  50.37  48.38  47.67\n",
       "8   51.29  54.88  47.52  50.06\n",
       "9   47.73  49.75  45.19  50.70\n",
       "10  52.35  47.60  48.94  47.80\n",
       "11  47.88  51.11  44.38  49.67\n",
       "12  46.98  46.33  53.51  44.39\n",
       "13  47.56  44.48  52.40  45.87\n",
       "14  49.62  44.58  41.87  50.08\n",
       "15  45.54  45.14  51.28  50.91\n",
       "16  47.23  46.28  43.79  45.01\n",
       "17  48.86  43.71  48.08  48.48\n",
       "18  44.84  51.55  44.24  49.39\n",
       "19  44.87  49.43  51.23  46.83\n",
       "20  47.77  51.71  46.07  50.30\n",
       "21  41.92  45.68  51.41  44.64\n",
       "22  48.66  48.07  43.32  43.51\n",
       "23  47.97  49.23  43.08  43.31\n",
       "24  46.15  50.82  42.12  43.46\n",
       "25  51.15  53.11  49.94  45.86"
      ]
     },
     "execution_count": 19,
     "metadata": {},
     "output_type": "execute_result"
    }
   ],
   "source": [
    "m = pandas.read_csv('../data/measurements.csv', sep=';', index_col=0)\n",
    "m"
   ]
  },
  {
   "cell_type": "code",
   "execution_count": 20,
   "metadata": {},
   "outputs": [
    {
     "data": {
      "text/plain": [
       "m1    47.3124\n",
       "m2    48.2272\n",
       "m3    47.5244\n",
       "m4    47.8148\n",
       "dtype: float64"
      ]
     },
     "execution_count": 20,
     "metadata": {},
     "output_type": "execute_result"
    }
   ],
   "source": [
    "m.mean()"
   ]
  },
  {
   "cell_type": "code",
   "execution_count": 21,
   "metadata": {},
   "outputs": [
    {
     "data": {
      "text/plain": [
       "1     49.7800\n",
       "2     50.2375\n",
       "3     47.2775\n",
       "4     46.0725\n",
       "5     46.7350\n",
       "6     47.1150\n",
       "7     48.1575\n",
       "8     50.9375\n",
       "9     48.3425\n",
       "10    49.1725\n",
       "11    48.2600\n",
       "12    47.8025\n",
       "13    47.5775\n",
       "14    46.5375\n",
       "15    48.2175\n",
       "16    45.5775\n",
       "17    47.2825\n",
       "18    47.5050\n",
       "19    48.0900\n",
       "20    48.9625\n",
       "21    45.9125\n",
       "22    45.8900\n",
       "23    45.8975\n",
       "24    45.6375\n",
       "25    50.0150\n",
       "dtype: float64"
      ]
     },
     "execution_count": 21,
     "metadata": {},
     "output_type": "execute_result"
    }
   ],
   "source": [
    "m.mean(axis=1)"
   ]
  },
  {
   "cell_type": "code",
   "execution_count": 22,
   "metadata": {},
   "outputs": [
    {
     "data": {
      "text/html": [
       "<div>\n",
       "<style scoped>\n",
       "    .dataframe tbody tr th:only-of-type {\n",
       "        vertical-align: middle;\n",
       "    }\n",
       "\n",
       "    .dataframe tbody tr th {\n",
       "        vertical-align: top;\n",
       "    }\n",
       "\n",
       "    .dataframe thead th {\n",
       "        text-align: right;\n",
       "    }\n",
       "</style>\n",
       "<table border=\"1\" class=\"dataframe\">\n",
       "  <thead>\n",
       "    <tr style=\"text-align: right;\">\n",
       "      <th></th>\n",
       "      <th>m1</th>\n",
       "      <th>m2</th>\n",
       "      <th>m3</th>\n",
       "      <th>m4</th>\n",
       "      <th>xbar</th>\n",
       "      <th>r</th>\n",
       "    </tr>\n",
       "  </thead>\n",
       "  <tbody>\n",
       "    <tr>\n",
       "      <th>1</th>\n",
       "      <td>46.25</td>\n",
       "      <td>50.26</td>\n",
       "      <td>53.61</td>\n",
       "      <td>49.00</td>\n",
       "      <td>49.7800</td>\n",
       "      <td>7.36</td>\n",
       "    </tr>\n",
       "    <tr>\n",
       "      <th>2</th>\n",
       "      <td>52.54</td>\n",
       "      <td>48.16</td>\n",
       "      <td>51.30</td>\n",
       "      <td>48.95</td>\n",
       "      <td>50.2375</td>\n",
       "      <td>4.38</td>\n",
       "    </tr>\n",
       "    <tr>\n",
       "      <th>3</th>\n",
       "      <td>44.14</td>\n",
       "      <td>49.30</td>\n",
       "      <td>43.53</td>\n",
       "      <td>52.14</td>\n",
       "      <td>47.2775</td>\n",
       "      <td>8.61</td>\n",
       "    </tr>\n",
       "    <tr>\n",
       "      <th>4</th>\n",
       "      <td>45.61</td>\n",
       "      <td>40.59</td>\n",
       "      <td>48.53</td>\n",
       "      <td>49.56</td>\n",
       "      <td>46.0725</td>\n",
       "      <td>8.97</td>\n",
       "    </tr>\n",
       "    <tr>\n",
       "      <th>5</th>\n",
       "      <td>46.23</td>\n",
       "      <td>46.19</td>\n",
       "      <td>47.76</td>\n",
       "      <td>46.76</td>\n",
       "      <td>46.7350</td>\n",
       "      <td>1.57</td>\n",
       "    </tr>\n",
       "    <tr>\n",
       "      <th>6</th>\n",
       "      <td>43.46</td>\n",
       "      <td>47.35</td>\n",
       "      <td>46.63</td>\n",
       "      <td>51.02</td>\n",
       "      <td>47.1150</td>\n",
       "      <td>7.56</td>\n",
       "    </tr>\n",
       "    <tr>\n",
       "      <th>7</th>\n",
       "      <td>46.21</td>\n",
       "      <td>50.37</td>\n",
       "      <td>48.38</td>\n",
       "      <td>47.67</td>\n",
       "      <td>48.1575</td>\n",
       "      <td>4.16</td>\n",
       "    </tr>\n",
       "    <tr>\n",
       "      <th>8</th>\n",
       "      <td>51.29</td>\n",
       "      <td>54.88</td>\n",
       "      <td>47.52</td>\n",
       "      <td>50.06</td>\n",
       "      <td>50.9375</td>\n",
       "      <td>7.36</td>\n",
       "    </tr>\n",
       "    <tr>\n",
       "      <th>9</th>\n",
       "      <td>47.73</td>\n",
       "      <td>49.75</td>\n",
       "      <td>45.19</td>\n",
       "      <td>50.70</td>\n",
       "      <td>48.3425</td>\n",
       "      <td>5.51</td>\n",
       "    </tr>\n",
       "    <tr>\n",
       "      <th>10</th>\n",
       "      <td>52.35</td>\n",
       "      <td>47.60</td>\n",
       "      <td>48.94</td>\n",
       "      <td>47.80</td>\n",
       "      <td>49.1725</td>\n",
       "      <td>4.75</td>\n",
       "    </tr>\n",
       "    <tr>\n",
       "      <th>11</th>\n",
       "      <td>47.88</td>\n",
       "      <td>51.11</td>\n",
       "      <td>44.38</td>\n",
       "      <td>49.67</td>\n",
       "      <td>48.2600</td>\n",
       "      <td>6.73</td>\n",
       "    </tr>\n",
       "    <tr>\n",
       "      <th>12</th>\n",
       "      <td>46.98</td>\n",
       "      <td>46.33</td>\n",
       "      <td>53.51</td>\n",
       "      <td>44.39</td>\n",
       "      <td>47.8025</td>\n",
       "      <td>9.12</td>\n",
       "    </tr>\n",
       "    <tr>\n",
       "      <th>13</th>\n",
       "      <td>47.56</td>\n",
       "      <td>44.48</td>\n",
       "      <td>52.40</td>\n",
       "      <td>45.87</td>\n",
       "      <td>47.5775</td>\n",
       "      <td>7.92</td>\n",
       "    </tr>\n",
       "    <tr>\n",
       "      <th>14</th>\n",
       "      <td>49.62</td>\n",
       "      <td>44.58</td>\n",
       "      <td>41.87</td>\n",
       "      <td>50.08</td>\n",
       "      <td>46.5375</td>\n",
       "      <td>8.21</td>\n",
       "    </tr>\n",
       "    <tr>\n",
       "      <th>15</th>\n",
       "      <td>45.54</td>\n",
       "      <td>45.14</td>\n",
       "      <td>51.28</td>\n",
       "      <td>50.91</td>\n",
       "      <td>48.2175</td>\n",
       "      <td>6.14</td>\n",
       "    </tr>\n",
       "    <tr>\n",
       "      <th>16</th>\n",
       "      <td>47.23</td>\n",
       "      <td>46.28</td>\n",
       "      <td>43.79</td>\n",
       "      <td>45.01</td>\n",
       "      <td>45.5775</td>\n",
       "      <td>3.44</td>\n",
       "    </tr>\n",
       "    <tr>\n",
       "      <th>17</th>\n",
       "      <td>48.86</td>\n",
       "      <td>43.71</td>\n",
       "      <td>48.08</td>\n",
       "      <td>48.48</td>\n",
       "      <td>47.2825</td>\n",
       "      <td>5.15</td>\n",
       "    </tr>\n",
       "    <tr>\n",
       "      <th>18</th>\n",
       "      <td>44.84</td>\n",
       "      <td>51.55</td>\n",
       "      <td>44.24</td>\n",
       "      <td>49.39</td>\n",
       "      <td>47.5050</td>\n",
       "      <td>7.31</td>\n",
       "    </tr>\n",
       "    <tr>\n",
       "      <th>19</th>\n",
       "      <td>44.87</td>\n",
       "      <td>49.43</td>\n",
       "      <td>51.23</td>\n",
       "      <td>46.83</td>\n",
       "      <td>48.0900</td>\n",
       "      <td>6.36</td>\n",
       "    </tr>\n",
       "    <tr>\n",
       "      <th>20</th>\n",
       "      <td>47.77</td>\n",
       "      <td>51.71</td>\n",
       "      <td>46.07</td>\n",
       "      <td>50.30</td>\n",
       "      <td>48.9625</td>\n",
       "      <td>5.64</td>\n",
       "    </tr>\n",
       "    <tr>\n",
       "      <th>21</th>\n",
       "      <td>41.92</td>\n",
       "      <td>45.68</td>\n",
       "      <td>51.41</td>\n",
       "      <td>44.64</td>\n",
       "      <td>45.9125</td>\n",
       "      <td>9.49</td>\n",
       "    </tr>\n",
       "    <tr>\n",
       "      <th>22</th>\n",
       "      <td>48.66</td>\n",
       "      <td>48.07</td>\n",
       "      <td>43.32</td>\n",
       "      <td>43.51</td>\n",
       "      <td>45.8900</td>\n",
       "      <td>5.34</td>\n",
       "    </tr>\n",
       "    <tr>\n",
       "      <th>23</th>\n",
       "      <td>47.97</td>\n",
       "      <td>49.23</td>\n",
       "      <td>43.08</td>\n",
       "      <td>43.31</td>\n",
       "      <td>45.8975</td>\n",
       "      <td>6.15</td>\n",
       "    </tr>\n",
       "    <tr>\n",
       "      <th>24</th>\n",
       "      <td>46.15</td>\n",
       "      <td>50.82</td>\n",
       "      <td>42.12</td>\n",
       "      <td>43.46</td>\n",
       "      <td>45.6375</td>\n",
       "      <td>8.70</td>\n",
       "    </tr>\n",
       "    <tr>\n",
       "      <th>25</th>\n",
       "      <td>51.15</td>\n",
       "      <td>53.11</td>\n",
       "      <td>49.94</td>\n",
       "      <td>45.86</td>\n",
       "      <td>50.0150</td>\n",
       "      <td>7.25</td>\n",
       "    </tr>\n",
       "  </tbody>\n",
       "</table>\n",
       "</div>"
      ],
      "text/plain": [
       "       m1     m2     m3     m4     xbar     r\n",
       "1   46.25  50.26  53.61  49.00  49.7800  7.36\n",
       "2   52.54  48.16  51.30  48.95  50.2375  4.38\n",
       "3   44.14  49.30  43.53  52.14  47.2775  8.61\n",
       "4   45.61  40.59  48.53  49.56  46.0725  8.97\n",
       "5   46.23  46.19  47.76  46.76  46.7350  1.57\n",
       "6   43.46  47.35  46.63  51.02  47.1150  7.56\n",
       "7   46.21  50.37  48.38  47.67  48.1575  4.16\n",
       "8   51.29  54.88  47.52  50.06  50.9375  7.36\n",
       "9   47.73  49.75  45.19  50.70  48.3425  5.51\n",
       "10  52.35  47.60  48.94  47.80  49.1725  4.75\n",
       "11  47.88  51.11  44.38  49.67  48.2600  6.73\n",
       "12  46.98  46.33  53.51  44.39  47.8025  9.12\n",
       "13  47.56  44.48  52.40  45.87  47.5775  7.92\n",
       "14  49.62  44.58  41.87  50.08  46.5375  8.21\n",
       "15  45.54  45.14  51.28  50.91  48.2175  6.14\n",
       "16  47.23  46.28  43.79  45.01  45.5775  3.44\n",
       "17  48.86  43.71  48.08  48.48  47.2825  5.15\n",
       "18  44.84  51.55  44.24  49.39  47.5050  7.31\n",
       "19  44.87  49.43  51.23  46.83  48.0900  6.36\n",
       "20  47.77  51.71  46.07  50.30  48.9625  5.64\n",
       "21  41.92  45.68  51.41  44.64  45.9125  9.49\n",
       "22  48.66  48.07  43.32  43.51  45.8900  5.34\n",
       "23  47.97  49.23  43.08  43.31  45.8975  6.15\n",
       "24  46.15  50.82  42.12  43.46  45.6375  8.70\n",
       "25  51.15  53.11  49.94  45.86  50.0150  7.25"
      ]
     },
     "execution_count": 22,
     "metadata": {},
     "output_type": "execute_result"
    }
   ],
   "source": [
    "m['xbar'] = m.mean(axis=1)\n",
    "m['r'] = m.apply(lambda x: max(x) - min(x), axis=1)\n",
    "m"
   ]
  },
  {
   "cell_type": "code",
   "execution_count": 23,
   "metadata": {},
   "outputs": [],
   "source": [
    "r_avg = m.r.mean()\n",
    "x_avg = m.xbar.mean()"
   ]
  },
  {
   "cell_type": "code",
   "execution_count": 24,
   "metadata": {},
   "outputs": [],
   "source": [
    "k = m.shape[0]\n",
    "d3 = 0\n",
    "d4 = 2.282\n",
    "a2 = 0.729"
   ]
  },
  {
   "cell_type": "code",
   "execution_count": 25,
   "metadata": {},
   "outputs": [],
   "source": [
    "UCL_R = d4 * r_avg\n",
    "LCL_R = d3 * r_avg"
   ]
  },
  {
   "cell_type": "code",
   "execution_count": 26,
   "metadata": {},
   "outputs": [],
   "source": [
    "UCL_X = x_avg + a2 * r_avg\n",
    "LCL_X = x_avg - a2 * r_avg"
   ]
  },
  {
   "cell_type": "code",
   "execution_count": 27,
   "metadata": {},
   "outputs": [
    {
     "data": {
      "text/plain": [
       "<matplotlib.lines.Line2D at 0x1a272b3e80>"
      ]
     },
     "execution_count": 27,
     "metadata": {},
     "output_type": "execute_result"
    },
    {
     "data": {
      "image/png": "[encoded data removed]",
      "text/plain": [
       "<Figure size 432x288 with 1 Axes>"
      ]
     },
     "metadata": {
      "needs_background": "light"
     },
     "output_type": "display_data"
    }
   ],
   "source": [
    "plt.plot(m.xbar, 'o-')\n",
    "plt.axhline(x_avg, color='r')\n",
    "plt.axhline(UCL_X, color='g')\n",
    "plt.axhline(LCL_X, color='g')"
   ]
  },
  {
   "cell_type": "code",
   "execution_count": 28,
   "metadata": {},
   "outputs": [
    {
     "data": {
      "text/plain": [
       "<matplotlib.lines.Line2D at 0x1a273935c0>"
      ]
     },
     "execution_count": 28,
     "metadata": {},
     "output_type": "execute_result"
    },
    {
     "data": {
      "image/png": "[encoded data removed]",
      "text/plain": [
       "<Figure size 432x288 with 1 Axes>"
      ]
     },
     "metadata": {
      "needs_background": "light"
     },
     "output_type": "display_data"
    }
   ],
   "source": [
    "plt.plot(m.r, 'o-')\n",
    "plt.axhline(r_avg, color='r')\n",
    "plt.axhline(UCL_R, color='g')\n",
    "plt.axhline(LCL_R, color='g')"
   ]
  },
  {
   "cell_type": "markdown",
   "metadata": {},
   "source": [
    "Matrix manipulation"
   ]
  },
  {
   "cell_type": "code",
   "execution_count": 29,
   "metadata": {},
   "outputs": [],
   "source": [
    "import numpy as np"
   ]
  },
  {
   "cell_type": "code",
   "execution_count": 30,
   "metadata": {},
   "outputs": [
    {
     "data": {
      "text/plain": [
       "array([[1., 0., 0., 0.],\n",
       "       [0., 1., 0., 0.],\n",
       "       [0., 0., 1., 0.],\n",
       "       [0., 0., 0., 1.]])"
      ]
     },
     "execution_count": 30,
     "metadata": {},
     "output_type": "execute_result"
    }
   ],
   "source": [
    "I = np.eye(4)\n",
    "I"
   ]
  },
  {
   "cell_type": "code",
   "execution_count": 31,
   "metadata": {},
   "outputs": [
    {
     "data": {
      "text/plain": [
       "array([[ 0,  5, 10,  5],\n",
       "       [ 4,  8,  5,  8],\n",
       "       [ 6,  2, 10,  7],\n",
       "       [ 6,  7,  6,  5]])"
      ]
     },
     "execution_count": 31,
     "metadata": {},
     "output_type": "execute_result"
    }
   ],
   "source": [
    "A = np.array([[random.randint(0, 10) for j in range(4)] for i in range(4)])\n",
    "A"
   ]
  },
  {
   "cell_type": "code",
   "execution_count": 32,
   "metadata": {},
   "outputs": [
    {
     "data": {
      "text/plain": [
       "array([[ 0.,  5., 10.,  5.],\n",
       "       [ 4.,  8.,  5.,  8.],\n",
       "       [ 6.,  2., 10.,  7.],\n",
       "       [ 6.,  7.,  6.,  5.]])"
      ]
     },
     "execution_count": 32,
     "metadata": {},
     "output_type": "execute_result"
    }
   ],
   "source": [
    "np.dot(A, I)"
   ]
  },
  {
   "cell_type": "code",
   "execution_count": 33,
   "metadata": {},
   "outputs": [
    {
     "data": {
      "text/plain": [
       "array([[110,  95, 155, 135],\n",
       "       [110, 150, 178, 159],\n",
       "       [110, 115, 212, 151],\n",
       "       [ 94, 133, 185, 153]])"
      ]
     },
     "execution_count": 33,
     "metadata": {},
     "output_type": "execute_result"
    }
   ],
   "source": [
    "np.dot(A, A)"
   ]
  },
  {
   "cell_type": "code",
   "execution_count": 34,
   "metadata": {},
   "outputs": [],
   "source": [
    "B = np.array([random.randint(0, 10) for i in range(4)])"
   ]
  },
  {
   "cell_type": "code",
   "execution_count": 35,
   "metadata": {},
   "outputs": [
    {
     "data": {
      "text/plain": [
       "array([[-1.17142857e-01, -8.00000000e-02,  6.28571429e-02,\n",
       "         1.57142857e-01],\n",
       "       [ 5.71428571e-02, -1.06858966e-17, -1.42857143e-01,\n",
       "         1.42857143e-01],\n",
       "       [ 1.02857143e-01, -1.20000000e-01,  2.28571429e-02,\n",
       "         5.71428571e-02],\n",
       "       [-6.28571429e-02,  2.40000000e-01,  9.71428571e-02,\n",
       "        -2.57142857e-01]])"
      ]
     },
     "execution_count": 35,
     "metadata": {},
     "output_type": "execute_result"
    }
   ],
   "source": [
    "from numpy.linalg import inv\n",
    "inv(A)"
   ]
  },
  {
   "cell_type": "code",
   "execution_count": 36,
   "metadata": {},
   "outputs": [
    {
     "data": {
      "text/plain": [
       "array([ 0.79142857, -0.37142857,  0.25142857,  0.06857143])"
      ]
     },
     "execution_count": 36,
     "metadata": {},
     "output_type": "execute_result"
    }
   ],
   "source": [
    "X = np.dot(inv(A), B)\n",
    "X"
   ]
  },
  {
   "cell_type": "code",
   "execution_count": null,
   "metadata": {},
   "outputs": [],
   "source": []
  },
  {
   "cell_type": "code",
   "execution_count": null,
   "metadata": {},
   "outputs": [],
   "source": []
  }
 ],
 "metadata": {
  "kernelspec": {
   "display_name": "Python 3",
   "language": "python",
   "name": "python3"
  },
  "language_info": {
   "codemirror_mode": {
    "name": "ipython",
    "version": 3
   },
   "file_extension": ".py",
   "mimetype": "text/x-python",
   "name": "python",
   "nbconvert_exporter": "python",
   "pygments_lexer": "ipython3",
   "version": "3.6.6"
  }
 },
 "nbformat": 4,
 "nbformat_minor": 1
}
